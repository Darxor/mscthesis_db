{
 "cells": [
  {
   "cell_type": "code",
   "execution_count": 2,
   "id": "2d2df689",
   "metadata": {},
   "outputs": [
    {
     "name": "stdout",
     "output_type": "stream",
     "text": [
      "The sql extension is already loaded. To reload it, use:\n",
      "  %reload_ext sql\n"
     ]
    }
   ],
   "source": [
    "from app.db import engine  # noqa: F401\n",
    "\n",
    "%load_ext sql\n",
    "%sql engine\n",
    "%config SqlMagic.autopolars = True"
   ]
  },
  {
   "cell_type": "markdown",
   "id": "82ee84e0",
   "metadata": {},
   "source": [
    "Получить все данные для обучения модели:\n",
    "\n",
    "Документы из корпусов, помеченных для обучения, где набор категорий был задан человеком с категориями, аннотированными вручную."
   ]
  },
  {
   "cell_type": "code",
   "execution_count": 5,
   "id": "8674f9d2",
   "metadata": {},
   "outputs": [
    {
     "data": {
      "text/html": [
       "<span style=\"color: green\">16 rows affected.</span>"
      ],
      "text/plain": [
       "16 rows affected."
      ]
     },
     "metadata": {},
     "output_type": "display_data"
    },
    {
     "data": {
      "text/html": [
       "<div><style>\n",
       ".dataframe > thead > tr,\n",
       ".dataframe > tbody > tr {\n",
       "  text-align: right;\n",
       "  white-space: pre-wrap;\n",
       "}\n",
       "</style>\n",
       "<small>shape: (16, 3)</small><table border=\"1\" class=\"dataframe\"><thead><tr><th>uid</th><th>text</th><th>label</th></tr><tr><td>object</td><td>str</td><td>str</td></tr></thead><tbody><tr><td>05f9555d-2d15-4a09-9576-3e5fd223650b</td><td>&quot;Нам нужны гибкие графики работ…</td><td>&quot;Баланс работы и личной жизни&quot;</td></tr><tr><td>1a096e74-db30-4911-879d-6071a0dd9c14</td><td>&quot;Коллеги были очень дружелюбны …</td><td>&quot;Поддержка коллег&quot;</td></tr><tr><td>1e66baf1-cd01-439d-9001-796a1361eb81</td><td>&quot;Хотелось бы иметь возможность …</td><td>&quot;Баланс работы и личной жизни&quot;</td></tr><tr><td>48d50f46-d78f-4610-b934-be07ca24f0ee</td><td>&quot;Отличная командная атмосфера и…</td><td>&quot;Командная работа&quot;</td></tr><tr><td>5696d50e-7d2e-4551-811f-f3ce0f6c1bd0</td><td>&quot;Чувствую себя немного изолиров…</td><td>&quot;Изоляция&quot;</td></tr><tr><td>&hellip;</td><td>&hellip;</td><td>&hellip;</td></tr><tr><td>c35298ce-47fc-4812-bf9d-ab4317725788</td><td>&quot;Мне не сразу дали доступ к нео…</td><td>&quot;Другое&quot;</td></tr><tr><td>e6939ade-2b11-448c-9c0f-8f0a3ac005da</td><td>&quot;Наша команда эффективно сотруд…</td><td>&quot;Инновации&quot;</td></tr><tr><td>e6939ade-2b11-448c-9c0f-8f0a3ac005da</td><td>&quot;Наша команда эффективно сотруд…</td><td>&quot;Командная работа&quot;</td></tr><tr><td>e71ac099-3ae4-4900-9221-9100dcf00421</td><td>&quot;Компания предлагает конкуренто…</td><td>&quot;Вознаграждение&quot;</td></tr><tr><td>fa36f3e4-eb15-421f-ae54-5da59e4603a9</td><td>&quot;Офис слишком тесный, что затру…</td><td>&quot;Офисная обстановка&quot;</td></tr></tbody></table></div>"
      ],
      "text/plain": [
       "shape: (16, 3)\n",
       "┌─────────────────────────────────┬─────────────────────────────────┬──────────────────────────────┐\n",
       "│ uid                             ┆ text                            ┆ label                        │\n",
       "│ ---                             ┆ ---                             ┆ ---                          │\n",
       "│ object                          ┆ str                             ┆ str                          │\n",
       "╞═════════════════════════════════╪═════════════════════════════════╪══════════════════════════════╡\n",
       "│ 05f9555d-2d15-4a09-9576-3e5fd2… ┆ Нам нужны гибкие графики работ… ┆ Баланс работы и личной жизни │\n",
       "│ 1a096e74-db30-4911-879d-6071a0… ┆ Коллеги были очень дружелюбны … ┆ Поддержка коллег             │\n",
       "│ 1e66baf1-cd01-439d-9001-796a13… ┆ Хотелось бы иметь возможность … ┆ Баланс работы и личной жизни │\n",
       "│ 48d50f46-d78f-4610-b934-be07ca… ┆ Отличная командная атмосфера и… ┆ Командная работа             │\n",
       "│ 5696d50e-7d2e-4551-811f-f3ce0f… ┆ Чувствую себя немного изолиров… ┆ Изоляция                     │\n",
       "│ …                               ┆ …                               ┆ …                            │\n",
       "│ c35298ce-47fc-4812-bf9d-ab4317… ┆ Мне не сразу дали доступ к нео… ┆ Другое                       │\n",
       "│ e6939ade-2b11-448c-9c0f-8f0a3a… ┆ Наша команда эффективно сотруд… ┆ Инновации                    │\n",
       "│ e6939ade-2b11-448c-9c0f-8f0a3a… ┆ Наша команда эффективно сотруд… ┆ Командная работа             │\n",
       "│ e71ac099-3ae4-4900-9221-9100dc… ┆ Компания предлагает конкуренто… ┆ Вознаграждение               │\n",
       "│ fa36f3e4-eb15-421f-ae54-5da59e… ┆ Офис слишком тесный, что затру… ┆ Офисная обстановка           │\n",
       "└─────────────────────────────────┴─────────────────────────────────┴──────────────────────────────┘"
      ]
     },
     "execution_count": 5,
     "metadata": {},
     "output_type": "execute_result"
    }
   ],
   "source": [
    "%%sql engine\n",
    "\n",
    "SELECT d.uid, d.text, l.value AS label\n",
    "FROM documents d\n",
    "         INNER JOIN corpora c on c.uid = d.corpus_uid\n",
    "         INNER JOIN document_label_assignments dla ON d.uid = dla.document_uid\n",
    "         INNER JOIN labels l ON dla.label_uid = l.uid\n",
    "         INNER JOIN actors aa ON dla.assigner_uid = aa.uid\n",
    "         INNER JOIN labelsets ls ON l.label_set_uid = ls.uid\n",
    "         INNER JOIN actors sa ON ls.suggester_uid = sa.uid\n",
    "WHERE aa.type = 'HUMAN'\n",
    "  AND sa.type = 'HUMAN'\n",
    "  AND c.category = 'TRAINING'\n",
    "ORDER BY d.uid;"
   ]
  }
 ],
 "metadata": {
  "kernelspec": {
   "display_name": ".venv",
   "language": "python",
   "name": "python3"
  },
  "language_info": {
   "codemirror_mode": {
    "name": "ipython",
    "version": 3
   },
   "file_extension": ".py",
   "mimetype": "text/x-python",
   "name": "python",
   "nbconvert_exporter": "python",
   "pygments_lexer": "ipython3",
   "version": "3.12.9"
  }
 },
 "nbformat": 4,
 "nbformat_minor": 5
}
